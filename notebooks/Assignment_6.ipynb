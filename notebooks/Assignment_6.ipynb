{
 "cells": [
  {
   "cell_type": "code",
   "execution_count": null,
   "id": "2de737c8-3c7d-4499-9211-65f5446f5e3e",
   "metadata": {},
   "outputs": [],
   "source": [
    "# !pip install keras tensorflow -U"
   ]
  },
  {
   "cell_type": "code",
   "execution_count": 2,
   "id": "9a9784eb",
   "metadata": {
    "papermill": {
     "duration": 7.651297,
     "end_time": "2022-11-12T19:23:27.502587",
     "exception": false,
     "start_time": "2022-11-12T19:23:19.85129",
     "status": "completed"
    },
    "tags": []
   },
   "outputs": [
    {
     "name": "stderr",
     "output_type": "stream",
     "text": [
      "2023-11-01 21:20:46.794174: I tensorflow/core/util/port.cc:111] oneDNN custom operations are on. You may see slightly different numerical results due to floating-point round-off errors from different computation orders. To turn them off, set the environment variable `TF_ENABLE_ONEDNN_OPTS=0`.\n",
      "2023-11-01 21:20:46.795486: I tensorflow/tsl/cuda/cudart_stub.cc:28] Could not find cuda drivers on your machine, GPU will not be used.\n",
      "2023-11-01 21:20:46.818150: E tensorflow/compiler/xla/stream_executor/cuda/cuda_dnn.cc:9342] Unable to register cuDNN factory: Attempting to register factory for plugin cuDNN when one has already been registered\n",
      "2023-11-01 21:20:46.818183: E tensorflow/compiler/xla/stream_executor/cuda/cuda_fft.cc:609] Unable to register cuFFT factory: Attempting to register factory for plugin cuFFT when one has already been registered\n",
      "2023-11-01 21:20:46.818199: E tensorflow/compiler/xla/stream_executor/cuda/cuda_blas.cc:1518] Unable to register cuBLAS factory: Attempting to register factory for plugin cuBLAS when one has already been registered\n",
      "2023-11-01 21:20:46.823154: I tensorflow/tsl/cuda/cudart_stub.cc:28] Could not find cuda drivers on your machine, GPU will not be used.\n",
      "2023-11-01 21:20:46.823590: I tensorflow/core/platform/cpu_feature_guard.cc:182] This TensorFlow binary is optimized to use available CPU instructions in performance-critical operations.\n",
      "To enable the following instructions: AVX2 AVX_VNNI FMA, in other operations, rebuild TensorFlow with the appropriate compiler flags.\n",
      "2023-11-01 21:20:47.392943: W tensorflow/compiler/tf2tensorrt/utils/py_utils.cc:38] TF-TRT Warning: Could not find TensorRT\n"
     ]
    }
   ],
   "source": [
    "import math\n",
    "import numpy as np\n",
    "import pandas as pd\n",
    "import tensorflow as tf\n",
    "import matplotlib.pyplot as plt\n",
    "from tensorflow.keras import Model\n",
    "from tensorflow.keras import Sequential\n",
    "from tensorflow.keras.optimizers import Adam\n",
    "from sklearn.preprocessing import StandardScaler\n",
    "from tensorflow.keras.layers import Dense, Dropout\n",
    "from sklearn.model_selection import train_test_split\n",
    "from tensorflow.keras.losses import MeanSquaredLogarithmicError"
   ]
  },
  {
   "cell_type": "code",
   "execution_count": 3,
   "id": "d2935b10",
   "metadata": {
    "papermill": {
     "duration": 0.388366,
     "end_time": "2022-11-12T19:23:27.89808",
     "exception": false,
     "start_time": "2022-11-12T19:23:27.509714",
     "status": "completed"
    },
    "tags": []
   },
   "outputs": [],
   "source": [
    "df = np.loadtxt('https://raw.githubusercontent.com/jbrownlee/Datasets/master/pima-indians-diabetes.data.csv', delimiter=',')"
   ]
  },
  {
   "cell_type": "code",
   "execution_count": 4,
   "id": "15dcd7a7",
   "metadata": {
    "papermill": {
     "duration": 0.020734,
     "end_time": "2022-11-12T19:23:27.925627",
     "exception": false,
     "start_time": "2022-11-12T19:23:27.904893",
     "status": "completed"
    },
    "tags": []
   },
   "outputs": [
    {
     "data": {
      "text/plain": [
       "array([[  6.   , 148.   ,  72.   , ...,   0.627,  50.   ,   1.   ],\n",
       "       [  1.   ,  85.   ,  66.   , ...,   0.351,  31.   ,   0.   ],\n",
       "       [  8.   , 183.   ,  64.   , ...,   0.672,  32.   ,   1.   ],\n",
       "       ...,\n",
       "       [  5.   , 121.   ,  72.   , ...,   0.245,  30.   ,   0.   ],\n",
       "       [  1.   , 126.   ,  60.   , ...,   0.349,  47.   ,   1.   ],\n",
       "       [  1.   ,  93.   ,  70.   , ...,   0.315,  23.   ,   0.   ]])"
      ]
     },
     "execution_count": 4,
     "metadata": {},
     "output_type": "execute_result"
    }
   ],
   "source": [
    "df"
   ]
  },
  {
   "cell_type": "code",
   "execution_count": 5,
   "id": "a5a69a3d",
   "metadata": {
    "papermill": {
     "duration": 0.01712,
     "end_time": "2022-11-12T19:23:27.949965",
     "exception": false,
     "start_time": "2022-11-12T19:23:27.932845",
     "status": "completed"
    },
    "tags": []
   },
   "outputs": [
    {
     "data": {
      "text/plain": [
       "(768, 9)"
      ]
     },
     "execution_count": 5,
     "metadata": {},
     "output_type": "execute_result"
    }
   ],
   "source": [
    "df.shape"
   ]
  },
  {
   "cell_type": "code",
   "execution_count": 6,
   "id": "6b7fa3ff",
   "metadata": {
    "papermill": {
     "duration": 0.017249,
     "end_time": "2022-11-12T19:23:27.974337",
     "exception": false,
     "start_time": "2022-11-12T19:23:27.957088",
     "status": "completed"
    },
    "tags": []
   },
   "outputs": [],
   "source": [
    "x = df[:,:8]\n",
    "y = df[:,8]"
   ]
  },
  {
   "cell_type": "code",
   "execution_count": 7,
   "id": "fa5ad326",
   "metadata": {
    "papermill": {
     "duration": 0.022515,
     "end_time": "2022-11-12T19:23:28.005566",
     "exception": false,
     "start_time": "2022-11-12T19:23:27.983051",
     "status": "completed"
    },
    "tags": []
   },
   "outputs": [],
   "source": [
    "from sklearn.model_selection import train_test_split\n",
    "X_train, X_temp, y_train, y_temp = train_test_split(x, y, test_size=0.2, random_state=42)\n",
    "\n",
    "X_test, X_val, y_test, y_val = train_test_split(X_temp, y_temp, test_size=0.5, random_state=42)"
   ]
  },
  {
   "cell_type": "code",
   "execution_count": 8,
   "id": "4dc9ec81",
   "metadata": {
    "papermill": {
     "duration": 0.018342,
     "end_time": "2022-11-12T19:23:28.031252",
     "exception": false,
     "start_time": "2022-11-12T19:23:28.01291",
     "status": "completed"
    },
    "tags": []
   },
   "outputs": [
    {
     "name": "stdout",
     "output_type": "stream",
     "text": [
      "x train shape(614, 8)\n",
      "y train shape(614,)\n",
      "x test shape(77, 8)\n",
      "y test shape(77,)\n",
      "x val shape(77, 8)\n",
      "y val shape(77,)\n"
     ]
    }
   ],
   "source": [
    "print(f\"x train shape{X_train.shape}\")\n",
    "print(f\"y train shape{y_train.shape}\")\n",
    "print(f\"x test shape{X_test.shape}\")\n",
    "print(f\"y test shape{y_test.shape}\")\n",
    "print(f\"x val shape{X_val.shape}\")\n",
    "print(f\"y val shape{y_val.shape}\")"
   ]
  },
  {
   "cell_type": "code",
   "execution_count": 9,
   "id": "158acaef",
   "metadata": {
    "papermill": {
     "duration": 0.018303,
     "end_time": "2022-11-12T19:23:28.05689",
     "exception": false,
     "start_time": "2022-11-12T19:23:28.038587",
     "status": "completed"
    },
    "tags": []
   },
   "outputs": [],
   "source": [
    "from sklearn.preprocessing import StandardScaler\n",
    "scaler = StandardScaler()\n",
    "X_train = scaler.fit_transform(X_train)\n",
    "X_test = scaler.transform(X_test)\n",
    "X_val = scaler.transform(X_val)"
   ]
  },
  {
   "cell_type": "code",
   "execution_count": 10,
   "id": "1bbf24f1",
   "metadata": {
    "papermill": {
     "duration": 0.019165,
     "end_time": "2022-11-12T19:23:28.083282",
     "exception": false,
     "start_time": "2022-11-12T19:23:28.064117",
     "status": "completed"
    },
    "tags": []
   },
   "outputs": [
    {
     "data": {
      "text/plain": [
       "Counter({1.0: 268, 0.0: 500})"
      ]
     },
     "execution_count": 10,
     "metadata": {},
     "output_type": "execute_result"
    }
   ],
   "source": [
    "from collections import Counter\n",
    "Counter(y)"
   ]
  },
  {
   "cell_type": "code",
   "execution_count": 11,
   "id": "5c94bc61",
   "metadata": {
    "papermill": {
     "duration": 0.194263,
     "end_time": "2022-11-12T19:23:28.285212",
     "exception": false,
     "start_time": "2022-11-12T19:23:28.090949",
     "status": "completed"
    },
    "tags": []
   },
   "outputs": [],
   "source": [
    "import seaborn as sns"
   ]
  },
  {
   "cell_type": "code",
   "execution_count": 12,
   "id": "8264d7be",
   "metadata": {
    "papermill": {
     "duration": 0.016238,
     "end_time": "2022-11-12T19:23:28.308978",
     "exception": false,
     "start_time": "2022-11-12T19:23:28.29274",
     "status": "completed"
    },
    "tags": []
   },
   "outputs": [],
   "source": [
    "# sns.countplot(y)"
   ]
  },
  {
   "cell_type": "code",
   "execution_count": 13,
   "id": "952c7743",
   "metadata": {
    "papermill": {
     "duration": 0.017043,
     "end_time": "2022-11-12T19:23:28.333356",
     "exception": false,
     "start_time": "2022-11-12T19:23:28.316313",
     "status": "completed"
    },
    "tags": []
   },
   "outputs": [],
   "source": [
    "from tensorflow.keras.models import Sequential"
   ]
  },
  {
   "cell_type": "code",
   "execution_count": 14,
   "id": "c4e9210b",
   "metadata": {
    "papermill": {
     "duration": 0.159372,
     "end_time": "2022-11-12T19:23:28.500373",
     "exception": false,
     "start_time": "2022-11-12T19:23:28.341001",
     "status": "completed"
    },
    "tags": []
   },
   "outputs": [],
   "source": [
    "model = Sequential([\n",
    "\n",
    "tf.keras.layers.InputLayer(8,),\n",
    "Dense(50,activation='relu'),\n",
    "    \n",
    "Dense(50,activation='relu'),\n",
    "Dense(50,activation='relu'),\n",
    "Dense(50,activation='relu'),\n",
    "    \n",
    "Dense(1,activation='sigmoid')\n",
    "])\n"
   ]
  },
  {
   "cell_type": "code",
   "execution_count": 15,
   "id": "467b87fa",
   "metadata": {
    "papermill": {
     "duration": 0.018213,
     "end_time": "2022-11-12T19:23:28.526043",
     "exception": false,
     "start_time": "2022-11-12T19:23:28.50783",
     "status": "completed"
    },
    "tags": []
   },
   "outputs": [
    {
     "name": "stdout",
     "output_type": "stream",
     "text": [
      "Model: \"sequential\"\n",
      "_________________________________________________________________\n",
      " Layer (type)                Output Shape              Param #   \n",
      "=================================================================\n",
      " dense (Dense)               (None, 50)                450       \n",
      "                                                                 \n",
      " dense_1 (Dense)             (None, 50)                2550      \n",
      "                                                                 \n",
      " dense_2 (Dense)             (None, 50)                2550      \n",
      "                                                                 \n",
      " dense_3 (Dense)             (None, 50)                2550      \n",
      "                                                                 \n",
      " dense_4 (Dense)             (None, 1)                 51        \n",
      "                                                                 \n",
      "=================================================================\n",
      "Total params: 8151 (31.84 KB)\n",
      "Trainable params: 8151 (31.84 KB)\n",
      "Non-trainable params: 0 (0.00 Byte)\n",
      "_________________________________________________________________\n"
     ]
    }
   ],
   "source": [
    "model.summary()"
   ]
  },
  {
   "cell_type": "code",
   "execution_count": 16,
   "id": "bdf0ed8b",
   "metadata": {
    "papermill": {
     "duration": 0.027099,
     "end_time": "2022-11-12T19:23:28.560515",
     "exception": false,
     "start_time": "2022-11-12T19:23:28.533416",
     "status": "completed"
    },
    "tags": []
   },
   "outputs": [],
   "source": [
    "opt = tf.keras.optimizers.Adam(learning_rate=0.0001)\n",
    "model.compile(loss='binary_crossentropy', optimizer=opt, metrics=['accuracy'])"
   ]
  },
  {
   "cell_type": "code",
   "execution_count": 17,
   "id": "02967cdb",
   "metadata": {
    "papermill": {
     "duration": 27.671257,
     "end_time": "2022-11-12T19:23:56.239208",
     "exception": false,
     "start_time": "2022-11-12T19:23:28.567951",
     "status": "completed"
    },
    "tags": []
   },
   "outputs": [
    {
     "name": "stdout",
     "output_type": "stream",
     "text": [
      "Epoch 1/300\n",
      "16/16 [==============================] - 1s 9ms/step - loss: 4.6637 - accuracy: 0.3490 - val_loss: 0.6902 - val_accuracy: 0.5065\n",
      "Epoch 2/300\n",
      "16/16 [==============================] - 0s 3ms/step - loss: 1.6709 - accuracy: 0.3984 - val_loss: 0.6918 - val_accuracy: 0.5325\n",
      "Epoch 3/300\n",
      "16/16 [==============================] - 0s 2ms/step - loss: 1.0493 - accuracy: 0.5586 - val_loss: 0.6916 - val_accuracy: 0.5325\n",
      "Epoch 4/300\n",
      "16/16 [==============================] - 0s 2ms/step - loss: 0.7701 - accuracy: 0.5573 - val_loss: 0.6913 - val_accuracy: 0.5065\n",
      "Epoch 5/300\n",
      "16/16 [==============================] - 0s 2ms/step - loss: 0.7076 - accuracy: 0.6185 - val_loss: 0.6916 - val_accuracy: 0.5065\n",
      "Epoch 6/300\n",
      "16/16 [==============================] - 0s 3ms/step - loss: 0.6803 - accuracy: 0.6484 - val_loss: 0.6918 - val_accuracy: 0.5065\n",
      "Epoch 7/300\n",
      "16/16 [==============================] - 0s 2ms/step - loss: 0.6628 - accuracy: 0.6432 - val_loss: 0.6920 - val_accuracy: 0.5065\n",
      "Epoch 8/300\n",
      "16/16 [==============================] - 0s 2ms/step - loss: 0.6557 - accuracy: 0.6536 - val_loss: 0.6919 - val_accuracy: 0.5065\n",
      "Epoch 9/300\n",
      "16/16 [==============================] - 0s 2ms/step - loss: 0.6429 - accuracy: 0.6628 - val_loss: 0.6921 - val_accuracy: 0.4805\n",
      "Epoch 10/300\n",
      "16/16 [==============================] - 0s 2ms/step - loss: 0.6371 - accuracy: 0.6576 - val_loss: 0.6922 - val_accuracy: 0.4805\n",
      "Epoch 11/300\n",
      "16/16 [==============================] - 0s 3ms/step - loss: 0.6289 - accuracy: 0.6628 - val_loss: 0.6921 - val_accuracy: 0.4805\n",
      "Epoch 12/300\n",
      "16/16 [==============================] - 0s 2ms/step - loss: 0.6250 - accuracy: 0.6562 - val_loss: 0.6921 - val_accuracy: 0.4805\n",
      "Epoch 13/300\n",
      "16/16 [==============================] - 0s 2ms/step - loss: 0.6225 - accuracy: 0.6706 - val_loss: 0.6921 - val_accuracy: 0.4805\n",
      "Epoch 14/300\n",
      "16/16 [==============================] - 0s 2ms/step - loss: 0.6190 - accuracy: 0.6628 - val_loss: 0.6921 - val_accuracy: 0.5065\n",
      "Epoch 15/300\n",
      "16/16 [==============================] - 0s 2ms/step - loss: 0.6134 - accuracy: 0.6745 - val_loss: 0.6920 - val_accuracy: 0.5195\n",
      "Epoch 16/300\n",
      "16/16 [==============================] - 0s 2ms/step - loss: 0.6188 - accuracy: 0.6589 - val_loss: 0.6919 - val_accuracy: 0.5195\n",
      "Epoch 17/300\n",
      "16/16 [==============================] - 0s 2ms/step - loss: 0.6051 - accuracy: 0.6719 - val_loss: 0.6918 - val_accuracy: 0.5195\n",
      "Epoch 18/300\n",
      "16/16 [==============================] - 0s 2ms/step - loss: 0.6053 - accuracy: 0.6667 - val_loss: 0.6916 - val_accuracy: 0.5195\n",
      "Epoch 19/300\n",
      "16/16 [==============================] - 0s 2ms/step - loss: 0.6012 - accuracy: 0.6641 - val_loss: 0.6917 - val_accuracy: 0.5584\n",
      "Epoch 20/300\n",
      "16/16 [==============================] - 0s 2ms/step - loss: 0.5989 - accuracy: 0.6875 - val_loss: 0.6916 - val_accuracy: 0.5455\n",
      "Epoch 21/300\n",
      "16/16 [==============================] - 0s 2ms/step - loss: 0.5947 - accuracy: 0.6823 - val_loss: 0.6914 - val_accuracy: 0.5584\n",
      "Epoch 22/300\n",
      "16/16 [==============================] - 0s 2ms/step - loss: 0.5944 - accuracy: 0.6771 - val_loss: 0.6914 - val_accuracy: 0.5584\n",
      "Epoch 23/300\n",
      "16/16 [==============================] - 0s 2ms/step - loss: 0.5904 - accuracy: 0.6940 - val_loss: 0.6911 - val_accuracy: 0.5584\n",
      "Epoch 24/300\n",
      "16/16 [==============================] - 0s 2ms/step - loss: 0.5894 - accuracy: 0.6940 - val_loss: 0.6909 - val_accuracy: 0.5844\n",
      "Epoch 25/300\n",
      "16/16 [==============================] - 0s 2ms/step - loss: 0.5871 - accuracy: 0.6849 - val_loss: 0.6907 - val_accuracy: 0.5714\n",
      "Epoch 26/300\n",
      "16/16 [==============================] - 0s 2ms/step - loss: 0.5881 - accuracy: 0.6771 - val_loss: 0.6905 - val_accuracy: 0.5844\n",
      "Epoch 27/300\n",
      "16/16 [==============================] - 0s 3ms/step - loss: 0.5872 - accuracy: 0.6758 - val_loss: 0.6906 - val_accuracy: 0.5844\n",
      "Epoch 28/300\n",
      "16/16 [==============================] - 0s 2ms/step - loss: 0.5865 - accuracy: 0.6823 - val_loss: 0.6904 - val_accuracy: 0.5974\n",
      "Epoch 29/300\n",
      "16/16 [==============================] - 0s 2ms/step - loss: 0.5860 - accuracy: 0.6758 - val_loss: 0.6903 - val_accuracy: 0.5844\n",
      "Epoch 30/300\n",
      "16/16 [==============================] - 0s 2ms/step - loss: 0.5902 - accuracy: 0.6979 - val_loss: 0.6899 - val_accuracy: 0.5844\n",
      "Epoch 31/300\n",
      "16/16 [==============================] - 0s 2ms/step - loss: 0.5775 - accuracy: 0.6953 - val_loss: 0.6900 - val_accuracy: 0.5584\n",
      "Epoch 32/300\n",
      "16/16 [==============================] - 0s 2ms/step - loss: 0.5835 - accuracy: 0.6771 - val_loss: 0.6896 - val_accuracy: 0.5714\n",
      "Epoch 33/300\n",
      "16/16 [==============================] - 0s 2ms/step - loss: 0.5766 - accuracy: 0.7070 - val_loss: 0.6895 - val_accuracy: 0.5584\n",
      "Epoch 34/300\n",
      "16/16 [==============================] - 0s 2ms/step - loss: 0.5785 - accuracy: 0.6914 - val_loss: 0.6894 - val_accuracy: 0.5584\n",
      "Epoch 35/300\n",
      "16/16 [==============================] - 0s 2ms/step - loss: 0.5747 - accuracy: 0.7018 - val_loss: 0.6893 - val_accuracy: 0.5584\n",
      "Epoch 36/300\n",
      "16/16 [==============================] - 0s 2ms/step - loss: 0.5705 - accuracy: 0.7083 - val_loss: 0.6893 - val_accuracy: 0.5584\n",
      "Epoch 37/300\n",
      "16/16 [==============================] - 0s 2ms/step - loss: 0.5723 - accuracy: 0.6888 - val_loss: 0.6891 - val_accuracy: 0.5844\n",
      "Epoch 38/300\n",
      "16/16 [==============================] - 0s 2ms/step - loss: 0.5695 - accuracy: 0.7109 - val_loss: 0.6888 - val_accuracy: 0.5974\n",
      "Epoch 39/300\n",
      "16/16 [==============================] - 0s 2ms/step - loss: 0.5685 - accuracy: 0.6966 - val_loss: 0.6888 - val_accuracy: 0.5844\n",
      "Epoch 40/300\n",
      "16/16 [==============================] - 0s 2ms/step - loss: 0.5692 - accuracy: 0.6940 - val_loss: 0.6888 - val_accuracy: 0.5844\n",
      "Epoch 41/300\n",
      "16/16 [==============================] - 0s 2ms/step - loss: 0.5657 - accuracy: 0.7018 - val_loss: 0.6885 - val_accuracy: 0.5844\n",
      "Epoch 42/300\n",
      "16/16 [==============================] - 0s 2ms/step - loss: 0.5663 - accuracy: 0.7070 - val_loss: 0.6883 - val_accuracy: 0.5714\n",
      "Epoch 43/300\n",
      "16/16 [==============================] - 0s 2ms/step - loss: 0.5641 - accuracy: 0.6979 - val_loss: 0.6881 - val_accuracy: 0.5714\n",
      "Epoch 44/300\n",
      "16/16 [==============================] - 0s 3ms/step - loss: 0.5687 - accuracy: 0.7005 - val_loss: 0.6879 - val_accuracy: 0.5584\n",
      "Epoch 45/300\n",
      "16/16 [==============================] - 0s 2ms/step - loss: 0.5633 - accuracy: 0.7161 - val_loss: 0.6878 - val_accuracy: 0.5714\n",
      "Epoch 46/300\n",
      "16/16 [==============================] - 0s 3ms/step - loss: 0.5631 - accuracy: 0.7018 - val_loss: 0.6875 - val_accuracy: 0.5714\n",
      "Epoch 47/300\n",
      "16/16 [==============================] - 0s 2ms/step - loss: 0.5622 - accuracy: 0.7161 - val_loss: 0.6875 - val_accuracy: 0.5714\n",
      "Epoch 48/300\n",
      "16/16 [==============================] - 0s 2ms/step - loss: 0.5640 - accuracy: 0.7044 - val_loss: 0.6874 - val_accuracy: 0.5844\n",
      "Epoch 49/300\n",
      "16/16 [==============================] - 0s 2ms/step - loss: 0.5629 - accuracy: 0.7005 - val_loss: 0.6871 - val_accuracy: 0.5844\n",
      "Epoch 50/300\n",
      "16/16 [==============================] - 0s 2ms/step - loss: 0.5637 - accuracy: 0.7188 - val_loss: 0.6869 - val_accuracy: 0.5844\n",
      "Epoch 51/300\n",
      "16/16 [==============================] - 0s 3ms/step - loss: 0.5626 - accuracy: 0.7070 - val_loss: 0.6868 - val_accuracy: 0.5844\n",
      "Epoch 52/300\n",
      "16/16 [==============================] - 0s 2ms/step - loss: 0.5619 - accuracy: 0.6979 - val_loss: 0.6865 - val_accuracy: 0.5844\n",
      "Epoch 53/300\n",
      "16/16 [==============================] - 0s 2ms/step - loss: 0.5586 - accuracy: 0.7122 - val_loss: 0.6864 - val_accuracy: 0.5844\n",
      "Epoch 54/300\n",
      "16/16 [==============================] - 0s 3ms/step - loss: 0.5629 - accuracy: 0.6927 - val_loss: 0.6864 - val_accuracy: 0.5584\n",
      "Epoch 55/300\n",
      "16/16 [==============================] - 0s 2ms/step - loss: 0.5648 - accuracy: 0.7083 - val_loss: 0.6859 - val_accuracy: 0.5844\n",
      "Epoch 56/300\n",
      "16/16 [==============================] - 0s 2ms/step - loss: 0.5586 - accuracy: 0.7083 - val_loss: 0.6858 - val_accuracy: 0.5714\n",
      "Epoch 57/300\n",
      "16/16 [==============================] - 0s 2ms/step - loss: 0.5567 - accuracy: 0.7096 - val_loss: 0.6857 - val_accuracy: 0.5714\n",
      "Epoch 58/300\n",
      "16/16 [==============================] - 0s 2ms/step - loss: 0.5542 - accuracy: 0.7083 - val_loss: 0.6856 - val_accuracy: 0.5714\n",
      "Epoch 59/300\n",
      "16/16 [==============================] - 0s 2ms/step - loss: 0.5577 - accuracy: 0.7057 - val_loss: 0.6853 - val_accuracy: 0.5844\n",
      "Epoch 60/300\n",
      "16/16 [==============================] - 0s 3ms/step - loss: 0.5539 - accuracy: 0.7148 - val_loss: 0.6852 - val_accuracy: 0.5974\n",
      "Epoch 61/300\n",
      "16/16 [==============================] - 0s 2ms/step - loss: 0.5523 - accuracy: 0.7227 - val_loss: 0.6850 - val_accuracy: 0.5974\n",
      "Epoch 62/300\n",
      "16/16 [==============================] - 0s 2ms/step - loss: 0.5527 - accuracy: 0.7266 - val_loss: 0.6849 - val_accuracy: 0.5974\n",
      "Epoch 63/300\n",
      "16/16 [==============================] - 0s 2ms/step - loss: 0.5510 - accuracy: 0.7227 - val_loss: 0.6848 - val_accuracy: 0.6104\n",
      "Epoch 64/300\n",
      "16/16 [==============================] - 0s 2ms/step - loss: 0.5525 - accuracy: 0.7161 - val_loss: 0.6844 - val_accuracy: 0.6104\n",
      "Epoch 65/300\n",
      "16/16 [==============================] - 0s 2ms/step - loss: 0.5501 - accuracy: 0.7122 - val_loss: 0.6843 - val_accuracy: 0.6104\n",
      "Epoch 66/300\n",
      "16/16 [==============================] - 0s 2ms/step - loss: 0.5520 - accuracy: 0.7227 - val_loss: 0.6842 - val_accuracy: 0.6104\n",
      "Epoch 67/300\n",
      "16/16 [==============================] - 0s 2ms/step - loss: 0.5511 - accuracy: 0.7135 - val_loss: 0.6838 - val_accuracy: 0.6104\n",
      "Epoch 68/300\n",
      "16/16 [==============================] - 0s 2ms/step - loss: 0.5481 - accuracy: 0.7161 - val_loss: 0.6839 - val_accuracy: 0.6104\n",
      "Epoch 69/300\n",
      "16/16 [==============================] - 0s 2ms/step - loss: 0.5532 - accuracy: 0.7188 - val_loss: 0.6839 - val_accuracy: 0.6234\n",
      "Epoch 70/300\n",
      "16/16 [==============================] - 0s 2ms/step - loss: 0.5507 - accuracy: 0.7214 - val_loss: 0.6836 - val_accuracy: 0.6234\n",
      "Epoch 71/300\n",
      "16/16 [==============================] - 0s 3ms/step - loss: 0.5478 - accuracy: 0.7188 - val_loss: 0.6835 - val_accuracy: 0.6234\n",
      "Epoch 72/300\n",
      "16/16 [==============================] - 0s 2ms/step - loss: 0.5481 - accuracy: 0.7161 - val_loss: 0.6832 - val_accuracy: 0.6234\n",
      "Epoch 73/300\n",
      "16/16 [==============================] - 0s 2ms/step - loss: 0.5541 - accuracy: 0.7148 - val_loss: 0.6830 - val_accuracy: 0.6234\n",
      "Epoch 74/300\n",
      "16/16 [==============================] - 0s 2ms/step - loss: 0.5480 - accuracy: 0.7201 - val_loss: 0.6829 - val_accuracy: 0.6234\n",
      "Epoch 75/300\n",
      "16/16 [==============================] - 0s 2ms/step - loss: 0.5445 - accuracy: 0.7370 - val_loss: 0.6827 - val_accuracy: 0.6234\n",
      "Epoch 76/300\n",
      "16/16 [==============================] - 0s 2ms/step - loss: 0.5440 - accuracy: 0.7305 - val_loss: 0.6827 - val_accuracy: 0.6234\n",
      "Epoch 77/300\n",
      "16/16 [==============================] - 0s 2ms/step - loss: 0.5418 - accuracy: 0.7331 - val_loss: 0.6826 - val_accuracy: 0.6364\n",
      "Epoch 78/300\n",
      "16/16 [==============================] - 0s 2ms/step - loss: 0.5487 - accuracy: 0.7240 - val_loss: 0.6822 - val_accuracy: 0.6364\n",
      "Epoch 79/300\n",
      "16/16 [==============================] - 0s 2ms/step - loss: 0.5480 - accuracy: 0.7227 - val_loss: 0.6820 - val_accuracy: 0.6364\n",
      "Epoch 80/300\n",
      "16/16 [==============================] - 0s 2ms/step - loss: 0.5477 - accuracy: 0.7240 - val_loss: 0.6819 - val_accuracy: 0.6234\n",
      "Epoch 81/300\n",
      "16/16 [==============================] - 0s 2ms/step - loss: 0.5528 - accuracy: 0.7240 - val_loss: 0.6818 - val_accuracy: 0.6234\n",
      "Epoch 82/300\n",
      "16/16 [==============================] - 0s 3ms/step - loss: 0.5459 - accuracy: 0.7174 - val_loss: 0.6815 - val_accuracy: 0.6234\n",
      "Epoch 83/300\n",
      "16/16 [==============================] - 0s 2ms/step - loss: 0.5413 - accuracy: 0.7318 - val_loss: 0.6813 - val_accuracy: 0.6234\n",
      "Epoch 84/300\n",
      "16/16 [==============================] - 0s 2ms/step - loss: 0.5396 - accuracy: 0.7305 - val_loss: 0.6812 - val_accuracy: 0.6234\n",
      "Epoch 85/300\n",
      "16/16 [==============================] - 0s 2ms/step - loss: 0.5463 - accuracy: 0.7227 - val_loss: 0.6810 - val_accuracy: 0.6234\n",
      "Epoch 86/300\n",
      "16/16 [==============================] - 0s 2ms/step - loss: 0.5402 - accuracy: 0.7253 - val_loss: 0.6809 - val_accuracy: 0.6364\n",
      "Epoch 87/300\n",
      "16/16 [==============================] - 0s 2ms/step - loss: 0.5367 - accuracy: 0.7292 - val_loss: 0.6808 - val_accuracy: 0.6364\n",
      "Epoch 88/300\n",
      "16/16 [==============================] - 0s 2ms/step - loss: 0.5363 - accuracy: 0.7279 - val_loss: 0.6807 - val_accuracy: 0.6364\n",
      "Epoch 89/300\n",
      "16/16 [==============================] - 0s 2ms/step - loss: 0.5380 - accuracy: 0.7266 - val_loss: 0.6804 - val_accuracy: 0.6364\n",
      "Epoch 90/300\n",
      "16/16 [==============================] - 0s 2ms/step - loss: 0.5343 - accuracy: 0.7279 - val_loss: 0.6799 - val_accuracy: 0.6364\n",
      "Epoch 91/300\n",
      "16/16 [==============================] - 0s 2ms/step - loss: 0.5576 - accuracy: 0.7018 - val_loss: 0.6799 - val_accuracy: 0.6364\n",
      "Epoch 92/300\n",
      "16/16 [==============================] - 0s 2ms/step - loss: 0.5496 - accuracy: 0.7135 - val_loss: 0.6802 - val_accuracy: 0.6234\n",
      "Epoch 93/300\n",
      "16/16 [==============================] - 0s 2ms/step - loss: 0.5429 - accuracy: 0.7122 - val_loss: 0.6800 - val_accuracy: 0.6234\n",
      "Epoch 94/300\n",
      "16/16 [==============================] - 0s 2ms/step - loss: 0.5509 - accuracy: 0.7096 - val_loss: 0.6797 - val_accuracy: 0.6234\n",
      "Epoch 95/300\n",
      "16/16 [==============================] - 0s 2ms/step - loss: 0.5334 - accuracy: 0.7266 - val_loss: 0.6798 - val_accuracy: 0.6234\n",
      "Epoch 96/300\n",
      "16/16 [==============================] - 0s 2ms/step - loss: 0.5379 - accuracy: 0.7253 - val_loss: 0.6796 - val_accuracy: 0.6234\n",
      "Epoch 97/300\n",
      "16/16 [==============================] - 0s 3ms/step - loss: 0.5423 - accuracy: 0.7174 - val_loss: 0.6794 - val_accuracy: 0.6234\n",
      "Epoch 98/300\n",
      "16/16 [==============================] - 0s 2ms/step - loss: 0.5376 - accuracy: 0.7240 - val_loss: 0.6791 - val_accuracy: 0.6234\n",
      "Epoch 99/300\n",
      "16/16 [==============================] - 0s 2ms/step - loss: 0.5428 - accuracy: 0.7266 - val_loss: 0.6791 - val_accuracy: 0.6104\n",
      "Epoch 100/300\n",
      "16/16 [==============================] - 0s 2ms/step - loss: 0.5383 - accuracy: 0.7344 - val_loss: 0.6790 - val_accuracy: 0.6104\n",
      "Epoch 101/300\n",
      "16/16 [==============================] - 0s 3ms/step - loss: 0.5329 - accuracy: 0.7331 - val_loss: 0.6789 - val_accuracy: 0.6104\n",
      "Epoch 102/300\n",
      "16/16 [==============================] - 0s 2ms/step - loss: 0.5331 - accuracy: 0.7344 - val_loss: 0.6787 - val_accuracy: 0.6104\n",
      "Epoch 103/300\n",
      "16/16 [==============================] - 0s 2ms/step - loss: 0.5319 - accuracy: 0.7331 - val_loss: 0.6787 - val_accuracy: 0.6104\n",
      "Epoch 104/300\n",
      "16/16 [==============================] - 0s 2ms/step - loss: 0.5470 - accuracy: 0.7279 - val_loss: 0.6784 - val_accuracy: 0.6104\n",
      "Epoch 105/300\n",
      "16/16 [==============================] - 0s 3ms/step - loss: 0.5352 - accuracy: 0.7305 - val_loss: 0.6785 - val_accuracy: 0.6104\n",
      "Epoch 106/300\n",
      "16/16 [==============================] - 0s 2ms/step - loss: 0.5297 - accuracy: 0.7435 - val_loss: 0.6785 - val_accuracy: 0.6104\n",
      "Epoch 107/300\n",
      "16/16 [==============================] - 0s 2ms/step - loss: 0.5306 - accuracy: 0.7344 - val_loss: 0.6781 - val_accuracy: 0.6104\n",
      "Epoch 108/300\n",
      "16/16 [==============================] - 0s 2ms/step - loss: 0.5259 - accuracy: 0.7435 - val_loss: 0.6780 - val_accuracy: 0.6104\n",
      "Epoch 109/300\n",
      "16/16 [==============================] - 0s 2ms/step - loss: 0.5263 - accuracy: 0.7422 - val_loss: 0.6779 - val_accuracy: 0.6104\n",
      "Epoch 110/300\n",
      "16/16 [==============================] - 0s 2ms/step - loss: 0.5254 - accuracy: 0.7396 - val_loss: 0.6778 - val_accuracy: 0.6104\n",
      "Epoch 111/300\n",
      "16/16 [==============================] - 0s 2ms/step - loss: 0.5264 - accuracy: 0.7448 - val_loss: 0.6777 - val_accuracy: 0.6104\n",
      "Epoch 112/300\n",
      "16/16 [==============================] - 0s 2ms/step - loss: 0.5393 - accuracy: 0.7174 - val_loss: 0.6774 - val_accuracy: 0.6104\n",
      "Epoch 113/300\n",
      "16/16 [==============================] - 0s 3ms/step - loss: 0.5267 - accuracy: 0.7422 - val_loss: 0.6773 - val_accuracy: 0.6104\n",
      "Epoch 114/300\n",
      "16/16 [==============================] - 0s 3ms/step - loss: 0.5240 - accuracy: 0.7409 - val_loss: 0.6772 - val_accuracy: 0.6104\n",
      "Epoch 115/300\n",
      "16/16 [==============================] - 0s 2ms/step - loss: 0.5273 - accuracy: 0.7383 - val_loss: 0.6770 - val_accuracy: 0.6104\n",
      "Epoch 116/300\n",
      "16/16 [==============================] - 0s 2ms/step - loss: 0.5326 - accuracy: 0.7344 - val_loss: 0.6768 - val_accuracy: 0.6104\n",
      "Epoch 117/300\n",
      "16/16 [==============================] - 0s 3ms/step - loss: 0.5327 - accuracy: 0.7240 - val_loss: 0.6770 - val_accuracy: 0.6104\n",
      "Epoch 118/300\n",
      "16/16 [==============================] - 0s 2ms/step - loss: 0.5253 - accuracy: 0.7344 - val_loss: 0.6767 - val_accuracy: 0.6104\n",
      "Epoch 119/300\n",
      "16/16 [==============================] - 0s 2ms/step - loss: 0.5300 - accuracy: 0.7370 - val_loss: 0.6765 - val_accuracy: 0.6104\n",
      "Epoch 120/300\n",
      "16/16 [==============================] - 0s 2ms/step - loss: 0.5227 - accuracy: 0.7448 - val_loss: 0.6764 - val_accuracy: 0.6104\n",
      "Epoch 121/300\n",
      "16/16 [==============================] - 0s 2ms/step - loss: 0.5250 - accuracy: 0.7279 - val_loss: 0.6764 - val_accuracy: 0.6104\n",
      "Epoch 122/300\n",
      "16/16 [==============================] - 0s 2ms/step - loss: 0.5313 - accuracy: 0.7357 - val_loss: 0.6764 - val_accuracy: 0.6104\n",
      "Epoch 123/300\n",
      "16/16 [==============================] - 0s 2ms/step - loss: 0.5283 - accuracy: 0.7396 - val_loss: 0.6763 - val_accuracy: 0.6104\n",
      "Epoch 124/300\n",
      "16/16 [==============================] - 0s 2ms/step - loss: 0.5240 - accuracy: 0.7461 - val_loss: 0.6761 - val_accuracy: 0.6104\n",
      "Epoch 125/300\n",
      "16/16 [==============================] - 0s 2ms/step - loss: 0.5211 - accuracy: 0.7487 - val_loss: 0.6760 - val_accuracy: 0.6104\n",
      "Epoch 126/300\n",
      "16/16 [==============================] - 0s 3ms/step - loss: 0.5258 - accuracy: 0.7422 - val_loss: 0.6759 - val_accuracy: 0.6104\n",
      "Epoch 127/300\n",
      "16/16 [==============================] - 0s 2ms/step - loss: 0.5223 - accuracy: 0.7422 - val_loss: 0.6756 - val_accuracy: 0.6104\n",
      "Epoch 128/300\n",
      "16/16 [==============================] - 0s 2ms/step - loss: 0.5272 - accuracy: 0.7344 - val_loss: 0.6759 - val_accuracy: 0.6104\n",
      "Epoch 129/300\n",
      "16/16 [==============================] - 0s 2ms/step - loss: 0.5227 - accuracy: 0.7409 - val_loss: 0.6758 - val_accuracy: 0.6104\n",
      "Epoch 130/300\n",
      "16/16 [==============================] - 0s 2ms/step - loss: 0.5369 - accuracy: 0.7383 - val_loss: 0.6755 - val_accuracy: 0.6104\n",
      "Epoch 131/300\n",
      "16/16 [==============================] - 0s 2ms/step - loss: 0.5513 - accuracy: 0.7161 - val_loss: 0.6753 - val_accuracy: 0.6104\n",
      "Epoch 132/300\n",
      "16/16 [==============================] - 0s 2ms/step - loss: 0.5324 - accuracy: 0.7318 - val_loss: 0.6753 - val_accuracy: 0.6104\n",
      "Epoch 133/300\n",
      "16/16 [==============================] - 0s 2ms/step - loss: 0.5220 - accuracy: 0.7383 - val_loss: 0.6753 - val_accuracy: 0.6104\n",
      "Epoch 134/300\n",
      "16/16 [==============================] - 0s 2ms/step - loss: 0.5182 - accuracy: 0.7448 - val_loss: 0.6751 - val_accuracy: 0.6104\n",
      "Epoch 135/300\n",
      "16/16 [==============================] - 0s 2ms/step - loss: 0.5236 - accuracy: 0.7331 - val_loss: 0.6752 - val_accuracy: 0.6104\n",
      "Epoch 136/300\n",
      "16/16 [==============================] - 0s 3ms/step - loss: 0.5171 - accuracy: 0.7461 - val_loss: 0.6751 - val_accuracy: 0.6104\n",
      "Epoch 137/300\n",
      "16/16 [==============================] - 0s 2ms/step - loss: 0.5168 - accuracy: 0.7487 - val_loss: 0.6751 - val_accuracy: 0.6104\n",
      "Epoch 138/300\n",
      "16/16 [==============================] - 0s 2ms/step - loss: 0.5155 - accuracy: 0.7591 - val_loss: 0.6747 - val_accuracy: 0.6104\n",
      "Epoch 139/300\n",
      "16/16 [==============================] - 0s 2ms/step - loss: 0.5268 - accuracy: 0.7357 - val_loss: 0.6749 - val_accuracy: 0.6104\n",
      "Epoch 140/300\n",
      "16/16 [==============================] - 0s 3ms/step - loss: 0.5200 - accuracy: 0.7552 - val_loss: 0.6749 - val_accuracy: 0.6104\n",
      "Epoch 141/300\n",
      "16/16 [==============================] - 0s 2ms/step - loss: 0.5146 - accuracy: 0.7435 - val_loss: 0.6747 - val_accuracy: 0.6104\n",
      "Epoch 142/300\n",
      "16/16 [==============================] - 0s 2ms/step - loss: 0.5194 - accuracy: 0.7500 - val_loss: 0.6748 - val_accuracy: 0.6104\n",
      "Epoch 143/300\n",
      "16/16 [==============================] - 0s 2ms/step - loss: 0.5207 - accuracy: 0.7500 - val_loss: 0.6746 - val_accuracy: 0.6104\n",
      "Epoch 144/300\n",
      "16/16 [==============================] - 0s 2ms/step - loss: 0.5167 - accuracy: 0.7578 - val_loss: 0.6745 - val_accuracy: 0.6104\n",
      "Epoch 145/300\n",
      "16/16 [==============================] - 0s 2ms/step - loss: 0.5167 - accuracy: 0.7422 - val_loss: 0.6743 - val_accuracy: 0.6104\n",
      "Epoch 146/300\n",
      "16/16 [==============================] - 0s 2ms/step - loss: 0.5212 - accuracy: 0.7435 - val_loss: 0.6742 - val_accuracy: 0.6104\n",
      "Epoch 147/300\n",
      "16/16 [==============================] - 0s 2ms/step - loss: 0.5132 - accuracy: 0.7539 - val_loss: 0.6744 - val_accuracy: 0.6104\n",
      "Epoch 148/300\n",
      "16/16 [==============================] - 0s 2ms/step - loss: 0.5174 - accuracy: 0.7396 - val_loss: 0.6744 - val_accuracy: 0.6104\n",
      "Epoch 149/300\n",
      "16/16 [==============================] - 0s 3ms/step - loss: 0.5152 - accuracy: 0.7591 - val_loss: 0.6741 - val_accuracy: 0.6104\n",
      "Epoch 150/300\n",
      "16/16 [==============================] - 0s 2ms/step - loss: 0.5103 - accuracy: 0.7565 - val_loss: 0.6742 - val_accuracy: 0.6104\n",
      "Epoch 151/300\n",
      "16/16 [==============================] - 0s 2ms/step - loss: 0.5156 - accuracy: 0.7552 - val_loss: 0.6741 - val_accuracy: 0.6104\n",
      "Epoch 152/300\n",
      "16/16 [==============================] - 0s 2ms/step - loss: 0.5157 - accuracy: 0.7448 - val_loss: 0.6741 - val_accuracy: 0.6104\n",
      "Epoch 153/300\n",
      "16/16 [==============================] - 0s 2ms/step - loss: 0.5105 - accuracy: 0.7474 - val_loss: 0.6738 - val_accuracy: 0.6104\n",
      "Epoch 154/300\n",
      "16/16 [==============================] - 0s 2ms/step - loss: 0.5084 - accuracy: 0.7565 - val_loss: 0.6739 - val_accuracy: 0.6104\n",
      "Epoch 155/300\n",
      "16/16 [==============================] - 0s 2ms/step - loss: 0.5134 - accuracy: 0.7435 - val_loss: 0.6738 - val_accuracy: 0.6104\n",
      "Epoch 156/300\n",
      "16/16 [==============================] - 0s 2ms/step - loss: 0.5097 - accuracy: 0.7513 - val_loss: 0.6736 - val_accuracy: 0.6104\n",
      "Epoch 157/300\n",
      "16/16 [==============================] - 0s 2ms/step - loss: 0.5092 - accuracy: 0.7604 - val_loss: 0.6737 - val_accuracy: 0.6104\n",
      "Epoch 158/300\n",
      "16/16 [==============================] - 0s 2ms/step - loss: 0.5109 - accuracy: 0.7513 - val_loss: 0.6735 - val_accuracy: 0.6104\n",
      "Epoch 159/300\n",
      "16/16 [==============================] - 0s 2ms/step - loss: 0.5090 - accuracy: 0.7474 - val_loss: 0.6734 - val_accuracy: 0.6104\n",
      "Epoch 160/300\n",
      "16/16 [==============================] - 0s 2ms/step - loss: 0.5097 - accuracy: 0.7630 - val_loss: 0.6733 - val_accuracy: 0.6104\n",
      "Epoch 161/300\n",
      "16/16 [==============================] - 0s 2ms/step - loss: 0.5178 - accuracy: 0.7396 - val_loss: 0.6733 - val_accuracy: 0.6104\n",
      "Epoch 162/300\n",
      "16/16 [==============================] - 0s 2ms/step - loss: 0.5116 - accuracy: 0.7513 - val_loss: 0.6731 - val_accuracy: 0.6104\n",
      "Epoch 163/300\n",
      "16/16 [==============================] - 0s 2ms/step - loss: 0.5064 - accuracy: 0.7513 - val_loss: 0.6731 - val_accuracy: 0.6104\n",
      "Epoch 164/300\n",
      "16/16 [==============================] - 0s 2ms/step - loss: 0.5054 - accuracy: 0.7617 - val_loss: 0.6733 - val_accuracy: 0.6104\n",
      "Epoch 165/300\n",
      "16/16 [==============================] - 0s 2ms/step - loss: 0.5065 - accuracy: 0.7604 - val_loss: 0.6733 - val_accuracy: 0.6104\n",
      "Epoch 166/300\n",
      "16/16 [==============================] - 0s 2ms/step - loss: 0.5086 - accuracy: 0.7513 - val_loss: 0.6732 - val_accuracy: 0.6104\n",
      "Epoch 167/300\n",
      "16/16 [==============================] - 0s 2ms/step - loss: 0.5032 - accuracy: 0.7643 - val_loss: 0.6729 - val_accuracy: 0.6104\n",
      "Epoch 168/300\n",
      "16/16 [==============================] - 0s 2ms/step - loss: 0.5028 - accuracy: 0.7578 - val_loss: 0.6729 - val_accuracy: 0.6104\n",
      "Epoch 169/300\n",
      "16/16 [==============================] - 0s 2ms/step - loss: 0.5029 - accuracy: 0.7643 - val_loss: 0.6728 - val_accuracy: 0.6104\n",
      "Epoch 170/300\n",
      "16/16 [==============================] - 0s 3ms/step - loss: 0.5065 - accuracy: 0.7578 - val_loss: 0.6727 - val_accuracy: 0.6104\n",
      "Epoch 171/300\n",
      "16/16 [==============================] - 0s 2ms/step - loss: 0.5025 - accuracy: 0.7617 - val_loss: 0.6727 - val_accuracy: 0.6104\n",
      "Epoch 172/300\n",
      "16/16 [==============================] - 0s 2ms/step - loss: 0.5026 - accuracy: 0.7630 - val_loss: 0.6726 - val_accuracy: 0.6104\n",
      "Epoch 173/300\n",
      "16/16 [==============================] - 0s 3ms/step - loss: 0.5025 - accuracy: 0.7656 - val_loss: 0.6725 - val_accuracy: 0.6104\n",
      "Epoch 174/300\n",
      "16/16 [==============================] - 0s 2ms/step - loss: 0.5040 - accuracy: 0.7526 - val_loss: 0.6728 - val_accuracy: 0.6104\n",
      "Epoch 175/300\n",
      "16/16 [==============================] - 0s 2ms/step - loss: 0.5175 - accuracy: 0.7461 - val_loss: 0.6726 - val_accuracy: 0.6104\n",
      "Epoch 176/300\n",
      "16/16 [==============================] - 0s 2ms/step - loss: 0.5110 - accuracy: 0.7526 - val_loss: 0.6725 - val_accuracy: 0.6104\n",
      "Epoch 177/300\n",
      "16/16 [==============================] - 0s 2ms/step - loss: 0.5013 - accuracy: 0.7695 - val_loss: 0.6725 - val_accuracy: 0.6104\n",
      "Epoch 178/300\n",
      "16/16 [==============================] - 0s 2ms/step - loss: 0.5046 - accuracy: 0.7513 - val_loss: 0.6723 - val_accuracy: 0.6104\n",
      "Epoch 179/300\n",
      "16/16 [==============================] - 0s 2ms/step - loss: 0.5003 - accuracy: 0.7630 - val_loss: 0.6723 - val_accuracy: 0.6104\n",
      "Epoch 180/300\n",
      "16/16 [==============================] - 0s 2ms/step - loss: 0.5078 - accuracy: 0.7695 - val_loss: 0.6722 - val_accuracy: 0.6104\n",
      "Epoch 181/300\n",
      "16/16 [==============================] - 0s 2ms/step - loss: 0.4997 - accuracy: 0.7617 - val_loss: 0.6720 - val_accuracy: 0.6104\n",
      "Epoch 182/300\n",
      "16/16 [==============================] - 0s 2ms/step - loss: 0.5002 - accuracy: 0.7682 - val_loss: 0.6723 - val_accuracy: 0.6104\n",
      "Epoch 183/300\n",
      "16/16 [==============================] - 0s 2ms/step - loss: 0.5015 - accuracy: 0.7643 - val_loss: 0.6719 - val_accuracy: 0.6104\n",
      "Epoch 184/300\n",
      "16/16 [==============================] - 0s 2ms/step - loss: 0.4984 - accuracy: 0.7695 - val_loss: 0.6719 - val_accuracy: 0.6104\n",
      "Epoch 185/300\n",
      "16/16 [==============================] - 0s 2ms/step - loss: 0.5100 - accuracy: 0.7565 - val_loss: 0.6718 - val_accuracy: 0.6104\n",
      "Epoch 186/300\n",
      "16/16 [==============================] - 0s 2ms/step - loss: 0.5127 - accuracy: 0.7630 - val_loss: 0.6717 - val_accuracy: 0.6104\n",
      "Epoch 187/300\n",
      "16/16 [==============================] - 0s 2ms/step - loss: 0.5179 - accuracy: 0.7435 - val_loss: 0.6717 - val_accuracy: 0.6104\n",
      "Epoch 188/300\n",
      "16/16 [==============================] - 0s 2ms/step - loss: 0.5117 - accuracy: 0.7578 - val_loss: 0.6716 - val_accuracy: 0.6104\n",
      "Epoch 189/300\n",
      "16/16 [==============================] - 0s 3ms/step - loss: 0.4984 - accuracy: 0.7760 - val_loss: 0.6718 - val_accuracy: 0.6104\n",
      "Epoch 190/300\n",
      "16/16 [==============================] - 0s 2ms/step - loss: 0.5015 - accuracy: 0.7591 - val_loss: 0.6717 - val_accuracy: 0.6104\n",
      "Epoch 191/300\n",
      "16/16 [==============================] - 0s 2ms/step - loss: 0.5008 - accuracy: 0.7539 - val_loss: 0.6717 - val_accuracy: 0.6104\n",
      "Epoch 192/300\n",
      "16/16 [==============================] - 0s 2ms/step - loss: 0.4983 - accuracy: 0.7682 - val_loss: 0.6716 - val_accuracy: 0.6104\n",
      "Epoch 193/300\n",
      "16/16 [==============================] - 0s 2ms/step - loss: 0.4955 - accuracy: 0.7721 - val_loss: 0.6716 - val_accuracy: 0.6104\n",
      "Epoch 194/300\n",
      "16/16 [==============================] - 0s 2ms/step - loss: 0.4957 - accuracy: 0.7643 - val_loss: 0.6715 - val_accuracy: 0.6104\n",
      "Epoch 195/300\n",
      "16/16 [==============================] - 0s 3ms/step - loss: 0.4935 - accuracy: 0.7747 - val_loss: 0.6714 - val_accuracy: 0.6104\n",
      "Epoch 196/300\n",
      "16/16 [==============================] - 0s 3ms/step - loss: 0.5020 - accuracy: 0.7591 - val_loss: 0.6715 - val_accuracy: 0.6104\n",
      "Epoch 197/300\n",
      "16/16 [==============================] - 0s 2ms/step - loss: 0.4955 - accuracy: 0.7682 - val_loss: 0.6716 - val_accuracy: 0.6104\n",
      "Epoch 198/300\n",
      "16/16 [==============================] - 0s 2ms/step - loss: 0.4981 - accuracy: 0.7526 - val_loss: 0.6712 - val_accuracy: 0.6104\n",
      "Epoch 199/300\n",
      "16/16 [==============================] - 0s 3ms/step - loss: 0.5012 - accuracy: 0.7487 - val_loss: 0.6711 - val_accuracy: 0.6104\n",
      "Epoch 200/300\n",
      "16/16 [==============================] - 0s 2ms/step - loss: 0.5028 - accuracy: 0.7617 - val_loss: 0.6715 - val_accuracy: 0.6104\n",
      "Epoch 201/300\n",
      "16/16 [==============================] - 0s 2ms/step - loss: 0.5028 - accuracy: 0.7513 - val_loss: 0.6711 - val_accuracy: 0.6104\n",
      "Epoch 202/300\n",
      "16/16 [==============================] - 0s 3ms/step - loss: 0.4918 - accuracy: 0.7643 - val_loss: 0.6712 - val_accuracy: 0.6104\n",
      "Epoch 203/300\n",
      "16/16 [==============================] - 0s 2ms/step - loss: 0.4932 - accuracy: 0.7656 - val_loss: 0.6713 - val_accuracy: 0.6104\n",
      "Epoch 204/300\n",
      "16/16 [==============================] - 0s 2ms/step - loss: 0.4965 - accuracy: 0.7604 - val_loss: 0.6712 - val_accuracy: 0.6104\n",
      "Epoch 205/300\n",
      "16/16 [==============================] - 0s 2ms/step - loss: 0.4929 - accuracy: 0.7695 - val_loss: 0.6712 - val_accuracy: 0.6104\n",
      "Epoch 206/300\n",
      "16/16 [==============================] - 0s 3ms/step - loss: 0.4921 - accuracy: 0.7786 - val_loss: 0.6712 - val_accuracy: 0.6104\n",
      "Epoch 207/300\n",
      "16/16 [==============================] - 0s 2ms/step - loss: 0.4983 - accuracy: 0.7552 - val_loss: 0.6711 - val_accuracy: 0.6104\n",
      "Epoch 208/300\n",
      "16/16 [==============================] - 0s 2ms/step - loss: 0.4934 - accuracy: 0.7695 - val_loss: 0.6709 - val_accuracy: 0.6104\n",
      "Epoch 209/300\n",
      "16/16 [==============================] - 0s 2ms/step - loss: 0.4871 - accuracy: 0.7734 - val_loss: 0.6709 - val_accuracy: 0.6104\n",
      "Epoch 210/300\n",
      "16/16 [==============================] - 0s 2ms/step - loss: 0.4903 - accuracy: 0.7643 - val_loss: 0.6709 - val_accuracy: 0.6104\n",
      "Epoch 211/300\n",
      "16/16 [==============================] - 0s 2ms/step - loss: 0.4935 - accuracy: 0.7734 - val_loss: 0.6709 - val_accuracy: 0.6104\n",
      "Epoch 212/300\n",
      "16/16 [==============================] - 0s 2ms/step - loss: 0.4878 - accuracy: 0.7734 - val_loss: 0.6707 - val_accuracy: 0.6104\n",
      "Epoch 213/300\n",
      "16/16 [==============================] - 0s 2ms/step - loss: 0.4898 - accuracy: 0.7786 - val_loss: 0.6707 - val_accuracy: 0.6104\n",
      "Epoch 214/300\n",
      "16/16 [==============================] - 0s 2ms/step - loss: 0.4895 - accuracy: 0.7812 - val_loss: 0.6706 - val_accuracy: 0.6104\n",
      "Epoch 215/300\n",
      "16/16 [==============================] - 0s 2ms/step - loss: 0.4893 - accuracy: 0.7721 - val_loss: 0.6707 - val_accuracy: 0.6104\n",
      "Epoch 216/300\n",
      "16/16 [==============================] - 0s 2ms/step - loss: 0.4959 - accuracy: 0.7565 - val_loss: 0.6704 - val_accuracy: 0.6104\n",
      "Epoch 217/300\n",
      "16/16 [==============================] - 0s 2ms/step - loss: 0.4884 - accuracy: 0.7656 - val_loss: 0.6703 - val_accuracy: 0.6104\n",
      "Epoch 218/300\n",
      "16/16 [==============================] - 0s 2ms/step - loss: 0.4915 - accuracy: 0.7721 - val_loss: 0.6704 - val_accuracy: 0.6104\n",
      "Epoch 219/300\n",
      "16/16 [==============================] - 0s 2ms/step - loss: 0.4955 - accuracy: 0.7617 - val_loss: 0.6705 - val_accuracy: 0.6104\n",
      "Epoch 220/300\n",
      "16/16 [==============================] - 0s 2ms/step - loss: 0.4871 - accuracy: 0.7760 - val_loss: 0.6705 - val_accuracy: 0.6104\n",
      "Epoch 221/300\n",
      "16/16 [==============================] - 0s 3ms/step - loss: 0.4865 - accuracy: 0.7708 - val_loss: 0.6703 - val_accuracy: 0.6104\n",
      "Epoch 222/300\n",
      "16/16 [==============================] - 0s 3ms/step - loss: 0.4957 - accuracy: 0.7565 - val_loss: 0.6701 - val_accuracy: 0.6104\n",
      "Epoch 223/300\n",
      "16/16 [==============================] - 0s 2ms/step - loss: 0.4937 - accuracy: 0.7760 - val_loss: 0.6702 - val_accuracy: 0.6104\n",
      "Epoch 224/300\n",
      "16/16 [==============================] - 0s 2ms/step - loss: 0.4883 - accuracy: 0.7643 - val_loss: 0.6703 - val_accuracy: 0.6104\n",
      "Epoch 225/300\n",
      "16/16 [==============================] - 0s 2ms/step - loss: 0.4862 - accuracy: 0.7734 - val_loss: 0.6701 - val_accuracy: 0.6104\n",
      "Epoch 226/300\n",
      "16/16 [==============================] - 0s 2ms/step - loss: 0.4924 - accuracy: 0.7708 - val_loss: 0.6699 - val_accuracy: 0.6104\n",
      "Epoch 227/300\n",
      "16/16 [==============================] - 0s 2ms/step - loss: 0.4926 - accuracy: 0.7695 - val_loss: 0.6700 - val_accuracy: 0.6104\n",
      "Epoch 228/300\n",
      "16/16 [==============================] - 0s 2ms/step - loss: 0.4886 - accuracy: 0.7760 - val_loss: 0.6703 - val_accuracy: 0.6104\n",
      "Epoch 229/300\n",
      "16/16 [==============================] - 0s 2ms/step - loss: 0.4880 - accuracy: 0.7669 - val_loss: 0.6703 - val_accuracy: 0.6104\n",
      "Epoch 230/300\n",
      "16/16 [==============================] - 0s 2ms/step - loss: 0.4877 - accuracy: 0.7669 - val_loss: 0.6702 - val_accuracy: 0.6104\n",
      "Epoch 231/300\n",
      "16/16 [==============================] - 0s 2ms/step - loss: 0.4909 - accuracy: 0.7643 - val_loss: 0.6701 - val_accuracy: 0.6104\n",
      "Epoch 232/300\n",
      "16/16 [==============================] - 0s 2ms/step - loss: 0.4828 - accuracy: 0.7708 - val_loss: 0.6701 - val_accuracy: 0.6104\n",
      "Epoch 233/300\n",
      "16/16 [==============================] - 0s 2ms/step - loss: 0.4849 - accuracy: 0.7760 - val_loss: 0.6698 - val_accuracy: 0.6104\n",
      "Epoch 234/300\n",
      "16/16 [==============================] - 0s 2ms/step - loss: 0.4826 - accuracy: 0.7643 - val_loss: 0.6698 - val_accuracy: 0.6104\n",
      "Epoch 235/300\n",
      "16/16 [==============================] - 0s 2ms/step - loss: 0.4900 - accuracy: 0.7695 - val_loss: 0.6699 - val_accuracy: 0.6104\n",
      "Epoch 236/300\n",
      "16/16 [==============================] - 0s 2ms/step - loss: 0.4869 - accuracy: 0.7656 - val_loss: 0.6699 - val_accuracy: 0.6104\n",
      "Epoch 237/300\n",
      "16/16 [==============================] - 0s 3ms/step - loss: 0.4798 - accuracy: 0.7786 - val_loss: 0.6700 - val_accuracy: 0.6104\n",
      "Epoch 238/300\n",
      "16/16 [==============================] - 0s 2ms/step - loss: 0.4793 - accuracy: 0.7812 - val_loss: 0.6698 - val_accuracy: 0.6104\n",
      "Epoch 239/300\n",
      "16/16 [==============================] - 0s 2ms/step - loss: 0.4795 - accuracy: 0.7812 - val_loss: 0.6696 - val_accuracy: 0.6104\n",
      "Epoch 240/300\n",
      "16/16 [==============================] - 0s 2ms/step - loss: 0.4804 - accuracy: 0.7891 - val_loss: 0.6698 - val_accuracy: 0.6104\n",
      "Epoch 241/300\n",
      "16/16 [==============================] - 0s 2ms/step - loss: 0.4884 - accuracy: 0.7734 - val_loss: 0.6698 - val_accuracy: 0.6104\n",
      "Epoch 242/300\n",
      "16/16 [==============================] - 0s 2ms/step - loss: 0.4760 - accuracy: 0.7773 - val_loss: 0.6698 - val_accuracy: 0.6104\n",
      "Epoch 243/300\n",
      "16/16 [==============================] - 0s 2ms/step - loss: 0.4780 - accuracy: 0.7865 - val_loss: 0.6698 - val_accuracy: 0.6104\n",
      "Epoch 244/300\n",
      "16/16 [==============================] - 0s 2ms/step - loss: 0.4780 - accuracy: 0.7812 - val_loss: 0.6699 - val_accuracy: 0.6104\n",
      "Epoch 245/300\n",
      "16/16 [==============================] - 0s 2ms/step - loss: 0.4820 - accuracy: 0.7747 - val_loss: 0.6699 - val_accuracy: 0.6104\n",
      "Epoch 246/300\n",
      "16/16 [==============================] - 0s 2ms/step - loss: 0.4790 - accuracy: 0.7799 - val_loss: 0.6699 - val_accuracy: 0.6104\n",
      "Epoch 247/300\n",
      "16/16 [==============================] - 0s 2ms/step - loss: 0.4783 - accuracy: 0.7812 - val_loss: 0.6700 - val_accuracy: 0.6104\n",
      "Epoch 248/300\n",
      "16/16 [==============================] - 0s 2ms/step - loss: 0.4945 - accuracy: 0.7422 - val_loss: 0.6695 - val_accuracy: 0.6104\n",
      "Epoch 249/300\n",
      "16/16 [==============================] - 0s 2ms/step - loss: 0.4809 - accuracy: 0.7760 - val_loss: 0.6696 - val_accuracy: 0.6104\n",
      "Epoch 250/300\n",
      "16/16 [==============================] - 0s 2ms/step - loss: 0.4765 - accuracy: 0.7826 - val_loss: 0.6698 - val_accuracy: 0.6104\n",
      "Epoch 251/300\n",
      "16/16 [==============================] - 0s 3ms/step - loss: 0.4759 - accuracy: 0.7943 - val_loss: 0.6696 - val_accuracy: 0.6104\n",
      "Epoch 252/300\n",
      "16/16 [==============================] - 0s 2ms/step - loss: 0.4773 - accuracy: 0.7747 - val_loss: 0.6699 - val_accuracy: 0.6104\n",
      "Epoch 253/300\n",
      "16/16 [==============================] - 0s 2ms/step - loss: 0.4724 - accuracy: 0.7904 - val_loss: 0.6697 - val_accuracy: 0.6104\n",
      "Epoch 254/300\n",
      "16/16 [==============================] - 0s 2ms/step - loss: 0.4741 - accuracy: 0.7799 - val_loss: 0.6698 - val_accuracy: 0.6104\n",
      "Epoch 255/300\n",
      "16/16 [==============================] - 0s 2ms/step - loss: 0.4708 - accuracy: 0.7930 - val_loss: 0.6697 - val_accuracy: 0.6104\n",
      "Epoch 256/300\n",
      "16/16 [==============================] - 0s 2ms/step - loss: 0.4779 - accuracy: 0.7721 - val_loss: 0.6694 - val_accuracy: 0.6104\n",
      "Epoch 257/300\n",
      "16/16 [==============================] - 0s 2ms/step - loss: 0.4781 - accuracy: 0.7669 - val_loss: 0.6697 - val_accuracy: 0.6104\n",
      "Epoch 258/300\n",
      "16/16 [==============================] - 0s 2ms/step - loss: 0.4718 - accuracy: 0.7891 - val_loss: 0.6698 - val_accuracy: 0.6104\n",
      "Epoch 259/300\n",
      "16/16 [==============================] - 0s 2ms/step - loss: 0.4680 - accuracy: 0.7852 - val_loss: 0.6696 - val_accuracy: 0.6104\n",
      "Epoch 260/300\n",
      "16/16 [==============================] - 0s 2ms/step - loss: 0.4758 - accuracy: 0.7786 - val_loss: 0.6696 - val_accuracy: 0.6104\n",
      "Epoch 261/300\n",
      "16/16 [==============================] - 0s 2ms/step - loss: 0.4668 - accuracy: 0.7852 - val_loss: 0.6699 - val_accuracy: 0.6104\n",
      "Epoch 262/300\n",
      "16/16 [==============================] - 0s 2ms/step - loss: 0.4830 - accuracy: 0.7826 - val_loss: 0.6696 - val_accuracy: 0.6104\n",
      "Epoch 263/300\n",
      "16/16 [==============================] - 0s 3ms/step - loss: 0.4723 - accuracy: 0.7747 - val_loss: 0.6695 - val_accuracy: 0.6104\n",
      "Epoch 264/300\n",
      "16/16 [==============================] - 0s 2ms/step - loss: 0.4891 - accuracy: 0.7669 - val_loss: 0.6694 - val_accuracy: 0.6104\n",
      "Epoch 265/300\n",
      "16/16 [==============================] - 0s 3ms/step - loss: 0.4722 - accuracy: 0.7786 - val_loss: 0.6699 - val_accuracy: 0.6104\n",
      "Epoch 266/300\n",
      "16/16 [==============================] - 0s 2ms/step - loss: 0.4711 - accuracy: 0.7812 - val_loss: 0.6695 - val_accuracy: 0.6104\n",
      "Epoch 267/300\n",
      "16/16 [==============================] - 0s 2ms/step - loss: 0.4726 - accuracy: 0.7865 - val_loss: 0.6695 - val_accuracy: 0.6104\n",
      "Epoch 268/300\n",
      "16/16 [==============================] - 0s 2ms/step - loss: 0.4702 - accuracy: 0.7852 - val_loss: 0.6696 - val_accuracy: 0.6104\n",
      "Epoch 269/300\n",
      "16/16 [==============================] - 0s 2ms/step - loss: 0.4692 - accuracy: 0.7839 - val_loss: 0.6696 - val_accuracy: 0.6104\n",
      "Epoch 270/300\n",
      "16/16 [==============================] - 0s 2ms/step - loss: 0.4770 - accuracy: 0.7708 - val_loss: 0.6696 - val_accuracy: 0.6104\n",
      "Epoch 271/300\n",
      "16/16 [==============================] - 0s 2ms/step - loss: 0.4702 - accuracy: 0.7904 - val_loss: 0.6697 - val_accuracy: 0.6104\n",
      "Epoch 272/300\n",
      "16/16 [==============================] - 0s 2ms/step - loss: 0.4681 - accuracy: 0.7799 - val_loss: 0.6697 - val_accuracy: 0.6104\n",
      "Epoch 273/300\n",
      "16/16 [==============================] - 0s 2ms/step - loss: 0.4682 - accuracy: 0.7865 - val_loss: 0.6695 - val_accuracy: 0.6104\n",
      "Epoch 274/300\n",
      "16/16 [==============================] - 0s 2ms/step - loss: 0.4692 - accuracy: 0.7956 - val_loss: 0.6695 - val_accuracy: 0.6104\n",
      "Epoch 275/300\n",
      "16/16 [==============================] - 0s 3ms/step - loss: 0.4661 - accuracy: 0.7852 - val_loss: 0.6695 - val_accuracy: 0.6104\n",
      "Epoch 276/300\n",
      "16/16 [==============================] - 0s 2ms/step - loss: 0.4661 - accuracy: 0.7904 - val_loss: 0.6696 - val_accuracy: 0.6104\n",
      "Epoch 277/300\n",
      "16/16 [==============================] - 0s 2ms/step - loss: 0.4708 - accuracy: 0.7773 - val_loss: 0.6695 - val_accuracy: 0.6104\n",
      "Epoch 278/300\n",
      "16/16 [==============================] - 0s 2ms/step - loss: 0.4700 - accuracy: 0.7891 - val_loss: 0.6698 - val_accuracy: 0.6104\n",
      "Epoch 279/300\n",
      "16/16 [==============================] - 0s 3ms/step - loss: 0.4646 - accuracy: 0.7839 - val_loss: 0.6697 - val_accuracy: 0.6104\n",
      "Epoch 280/300\n",
      "16/16 [==============================] - 0s 2ms/step - loss: 0.4658 - accuracy: 0.7799 - val_loss: 0.6699 - val_accuracy: 0.6104\n",
      "Epoch 281/300\n",
      "16/16 [==============================] - 0s 2ms/step - loss: 0.4694 - accuracy: 0.7956 - val_loss: 0.6700 - val_accuracy: 0.6104\n",
      "Epoch 282/300\n",
      "16/16 [==============================] - 0s 2ms/step - loss: 0.4644 - accuracy: 0.7904 - val_loss: 0.6699 - val_accuracy: 0.6104\n",
      "Epoch 283/300\n",
      "16/16 [==============================] - 0s 2ms/step - loss: 0.4663 - accuracy: 0.7943 - val_loss: 0.6700 - val_accuracy: 0.6104\n",
      "Epoch 284/300\n",
      "16/16 [==============================] - 0s 2ms/step - loss: 0.4665 - accuracy: 0.7786 - val_loss: 0.6703 - val_accuracy: 0.6104\n",
      "Epoch 285/300\n",
      "16/16 [==============================] - 0s 2ms/step - loss: 0.4710 - accuracy: 0.7812 - val_loss: 0.6698 - val_accuracy: 0.6104\n",
      "Epoch 286/300\n",
      "16/16 [==============================] - 0s 2ms/step - loss: 0.4748 - accuracy: 0.7812 - val_loss: 0.6698 - val_accuracy: 0.6104\n",
      "Epoch 287/300\n",
      "16/16 [==============================] - 0s 3ms/step - loss: 0.4730 - accuracy: 0.7865 - val_loss: 0.6699 - val_accuracy: 0.6104\n",
      "Epoch 288/300\n",
      "16/16 [==============================] - 0s 2ms/step - loss: 0.4634 - accuracy: 0.7917 - val_loss: 0.6700 - val_accuracy: 0.6104\n",
      "Epoch 289/300\n",
      "16/16 [==============================] - 0s 2ms/step - loss: 0.4637 - accuracy: 0.7839 - val_loss: 0.6699 - val_accuracy: 0.6104\n",
      "Epoch 290/300\n",
      "16/16 [==============================] - 0s 2ms/step - loss: 0.4630 - accuracy: 0.7904 - val_loss: 0.6702 - val_accuracy: 0.6104\n",
      "Epoch 291/300\n",
      "16/16 [==============================] - 0s 2ms/step - loss: 0.4630 - accuracy: 0.7943 - val_loss: 0.6704 - val_accuracy: 0.6104\n",
      "Epoch 292/300\n",
      "16/16 [==============================] - 0s 3ms/step - loss: 0.4618 - accuracy: 0.7852 - val_loss: 0.6702 - val_accuracy: 0.6104\n",
      "Epoch 293/300\n",
      "16/16 [==============================] - 0s 2ms/step - loss: 0.4626 - accuracy: 0.7878 - val_loss: 0.6701 - val_accuracy: 0.6104\n",
      "Epoch 294/300\n",
      "16/16 [==============================] - 0s 2ms/step - loss: 0.4629 - accuracy: 0.7995 - val_loss: 0.6702 - val_accuracy: 0.6104\n",
      "Epoch 295/300\n",
      "16/16 [==============================] - 0s 2ms/step - loss: 0.4637 - accuracy: 0.7878 - val_loss: 0.6704 - val_accuracy: 0.6104\n",
      "Epoch 296/300\n",
      "16/16 [==============================] - 0s 2ms/step - loss: 0.4651 - accuracy: 0.7747 - val_loss: 0.6705 - val_accuracy: 0.6104\n",
      "Epoch 297/300\n",
      "16/16 [==============================] - 0s 2ms/step - loss: 0.4629 - accuracy: 0.7852 - val_loss: 0.6703 - val_accuracy: 0.6104\n",
      "Epoch 298/300\n",
      "16/16 [==============================] - 0s 2ms/step - loss: 0.4596 - accuracy: 0.7943 - val_loss: 0.6709 - val_accuracy: 0.6104\n",
      "Epoch 299/300\n",
      "16/16 [==============================] - 0s 3ms/step - loss: 0.4600 - accuracy: 0.7786 - val_loss: 0.6703 - val_accuracy: 0.6104\n",
      "Epoch 300/300\n",
      "16/16 [==============================] - 0s 2ms/step - loss: 0.4578 - accuracy: 0.7917 - val_loss: 0.6705 - val_accuracy: 0.6104\n"
     ]
    }
   ],
   "source": [
    "history = model.fit(x=x,y=y,epochs=300, batch_size=50,validation_data=(X_val,y_val))"
   ]
  },
  {
   "cell_type": "code",
   "execution_count": 18,
   "id": "5db75ad0",
   "metadata": {
    "papermill": {
     "duration": 0.382105,
     "end_time": "2022-11-12T19:23:56.668239",
     "exception": false,
     "start_time": "2022-11-12T19:23:56.286134",
     "status": "completed"
    },
    "tags": []
   },
   "outputs": [
    {
     "data": {
      "text/plain": [
       "<AxesSubplot: >"
      ]
     },
     "execution_count": 18,
     "metadata": {},
     "output_type": "execute_result"
    },
    {
     "data": {
      "image/png": "[encoded data removed]",
      "text/plain": [
       "<Figure size 640x480 with 1 Axes>"
      ]
     },
     "metadata": {},
     "output_type": "display_data"
    }
   ],
   "source": [
    "losses = pd.DataFrame(model.history.history)\n",
    "losses.plot()"
   ]
  },
  {
   "cell_type": "code",
   "execution_count": 19,
   "id": "95e5f2a0",
   "metadata": {
    "papermill": {
     "duration": 0.307024,
     "end_time": "2022-11-12T19:23:57.019804",
     "exception": false,
     "start_time": "2022-11-12T19:23:56.71278",
     "status": "completed"
    },
    "tags": []
   },
   "outputs": [
    {
     "name": "stdout",
     "output_type": "stream",
     "text": [
      "24/24 [==============================] - 0s 827us/step - loss: 0.4548 - accuracy: 0.7956\n"
     ]
    },
    {
     "data": {
      "text/plain": [
       "[0.4547828435897827, 0.7955729365348816]"
      ]
     },
     "execution_count": 19,
     "metadata": {},
     "output_type": "execute_result"
    }
   ],
   "source": [
    "model.evaluate(x,y)"
   ]
  },
  {
   "cell_type": "code",
   "execution_count": 20,
   "id": "bd2f7489",
   "metadata": {
    "papermill": {
     "duration": 0.214614,
     "end_time": "2022-11-12T19:23:57.280868",
     "exception": false,
     "start_time": "2022-11-12T19:23:57.066254",
     "status": "completed"
    },
    "tags": []
   },
   "outputs": [
    {
     "name": "stdout",
     "output_type": "stream",
     "text": [
      "3/3 [==============================] - 0s 2ms/step\n"
     ]
    }
   ],
   "source": [
    "y_pred = model.predict(X_test)"
   ]
  },
  {
   "cell_type": "code",
   "execution_count": 21,
   "id": "1b9d3fa3",
   "metadata": {
    "papermill": {
     "duration": 0.057857,
     "end_time": "2022-11-12T19:23:57.385026",
     "exception": false,
     "start_time": "2022-11-12T19:23:57.327169",
     "status": "completed"
    },
    "tags": []
   },
   "outputs": [
    {
     "data": {
      "text/plain": [
       "array([[0.3536893 ],\n",
       "       [0.31613854],\n",
       "       [0.33745345],\n",
       "       [0.31688768],\n",
       "       [0.35371736],\n",
       "       [0.297135  ],\n",
       "       [0.3252551 ],\n",
       "       [0.27697143],\n",
       "       [0.30310884],\n",
       "       [0.33702734],\n",
       "       [0.34665176],\n",
       "       [0.3325564 ],\n",
       "       [0.38049853],\n",
       "       [0.3818299 ],\n",
       "       [0.36724174],\n",
       "       [0.37745008],\n",
       "       [0.3306878 ],\n",
       "       [0.3653709 ],\n",
       "       [0.35571158],\n",
       "       [0.3112544 ],\n",
       "       [0.3767397 ],\n",
       "       [0.33059627],\n",
       "       [0.34820232],\n",
       "       [0.36483636],\n",
       "       [0.34929064],\n",
       "       [0.2962364 ],\n",
       "       [0.34757626],\n",
       "       [0.36365914],\n",
       "       [0.33992067],\n",
       "       [0.3360551 ],\n",
       "       [0.38144177],\n",
       "       [0.3136258 ],\n",
       "       [0.37043902],\n",
       "       [0.3467628 ],\n",
       "       [0.33579922],\n",
       "       [0.30091265],\n",
       "       [0.32302988],\n",
       "       [0.37102884],\n",
       "       [0.36642542],\n",
       "       [0.35825375],\n",
       "       [0.31936607],\n",
       "       [0.35450602],\n",
       "       [0.31473565],\n",
       "       [0.36615613],\n",
       "       [0.3369754 ],\n",
       "       [0.37178075],\n",
       "       [0.342811  ],\n",
       "       [0.36301702],\n",
       "       [0.39198178],\n",
       "       [0.38525924],\n",
       "       [0.33939636],\n",
       "       [0.35624716],\n",
       "       [0.36679167],\n",
       "       [0.34542197],\n",
       "       [0.3203967 ],\n",
       "       [0.3139774 ],\n",
       "       [0.40863836],\n",
       "       [0.33821902],\n",
       "       [0.34901175],\n",
       "       [0.34060308],\n",
       "       [0.3579119 ],\n",
       "       [0.31748575],\n",
       "       [0.3178025 ],\n",
       "       [0.34546208],\n",
       "       [0.3237149 ],\n",
       "       [0.35688615],\n",
       "       [0.4021899 ],\n",
       "       [0.34002975],\n",
       "       [0.3614743 ],\n",
       "       [0.33870685],\n",
       "       [0.37230906],\n",
       "       [0.33208105],\n",
       "       [0.31829453],\n",
       "       [0.3683472 ],\n",
       "       [0.36931235],\n",
       "       [0.41273975],\n",
       "       [0.33880484]], dtype=float32)"
      ]
     },
     "execution_count": 21,
     "metadata": {},
     "output_type": "execute_result"
    }
   ],
   "source": [
    "y_pred"
   ]
  },
  {
   "cell_type": "code",
   "execution_count": 22,
   "id": "66b56be0",
   "metadata": {
    "papermill": {
     "duration": 0.055891,
     "end_time": "2022-11-12T19:23:57.485988",
     "exception": false,
     "start_time": "2022-11-12T19:23:57.430097",
     "status": "completed"
    },
    "tags": []
   },
   "outputs": [],
   "source": [
    "# !pip install ann_visualizer"
   ]
  },
  {
   "cell_type": "code",
   "execution_count": 23,
   "id": "f938cc14",
   "metadata": {
    "papermill": {
     "duration": 0.054781,
     "end_time": "2022-11-12T19:23:57.585666",
     "exception": false,
     "start_time": "2022-11-12T19:23:57.530885",
     "status": "completed"
    },
    "tags": []
   },
   "outputs": [],
   "source": [
    "# !pip install graphviz"
   ]
  },
  {
   "cell_type": "code",
   "execution_count": 24,
   "id": "27e88a77",
   "metadata": {
    "papermill": {
     "duration": 0.055563,
     "end_time": "2022-11-12T19:23:57.686794",
     "exception": false,
     "start_time": "2022-11-12T19:23:57.631231",
     "status": "completed"
    },
    "tags": []
   },
   "outputs": [],
   "source": [
    "# from ann_visualizer.visualize import ann_viz\n",
    "\n",
    "# ann_viz(model, title=\"\")"
   ]
  },
  {
   "cell_type": "code",
   "execution_count": 25,
   "id": "f002ce76",
   "metadata": {
    "papermill": {
     "duration": 0.0556,
     "end_time": "2022-11-12T19:23:57.78848",
     "exception": false,
     "start_time": "2022-11-12T19:23:57.73288",
     "status": "completed"
    },
    "tags": []
   },
   "outputs": [],
   "source": [
    "# !pip3 install keras\n",
    "# !pip3 install ann_visualizer\n",
    "# !pip install graphviz"
   ]
  },
  {
   "cell_type": "code",
   "execution_count": 26,
   "id": "94af479d",
   "metadata": {
    "papermill": {
     "duration": 0.056046,
     "end_time": "2022-11-12T19:23:57.8903",
     "exception": false,
     "start_time": "2022-11-12T19:23:57.834254",
     "status": "completed"
    },
    "tags": []
   },
   "outputs": [],
   "source": [
    "# from ann_visualizer.visualize import ann_viz;\n",
    "\n",
    "# ann_viz(model, title=\"My first neural network\")"
   ]
  },
  {
   "cell_type": "code",
   "execution_count": 27,
   "id": "428c3688",
   "metadata": {
    "papermill": {
     "duration": 0.055982,
     "end_time": "2022-11-12T19:23:57.992139",
     "exception": false,
     "start_time": "2022-11-12T19:23:57.936157",
     "status": "completed"
    },
    "tags": []
   },
   "outputs": [],
   "source": [
    "# python3 index.py"
   ]
  },
  {
   "cell_type": "code",
   "execution_count": null,
   "id": "2faebf18",
   "metadata": {
    "papermill": {
     "duration": 0.04633,
     "end_time": "2022-11-12T19:23:58.084475",
     "exception": false,
     "start_time": "2022-11-12T19:23:58.038145",
     "status": "completed"
    },
    "tags": []
   },
   "outputs": [],
   "source": []
  }
 ],
 "metadata": {
  "kernelspec": {
   "display_name": "Python 3 (ipykernel)",
   "language": "python",
   "name": "python3"
  },
  "language_info": {
   "codemirror_mode": {
    "name": "ipython",
    "version": 3
   },
   "file_extension": ".py",
   "mimetype": "text/x-python",
   "name": "python",
   "nbconvert_exporter": "python",
   "pygments_lexer": "ipython3",
   "version": "3.11.4"
  },
  "papermill": {
   "default_parameters": {},
   "duration": 50.227216,
   "end_time": "2022-11-12T19:24:01.303729",
   "environment_variables": {},
   "exception": null,
   "input_path": "__notebook__.ipynb",
   "output_path": "__notebook__.ipynb",
   "parameters": {},
   "start_time": "2022-11-12T19:23:11.076513",
   "version": "2.3.4"
  }
 },
 "nbformat": 4,
 "nbformat_minor": 5
}
